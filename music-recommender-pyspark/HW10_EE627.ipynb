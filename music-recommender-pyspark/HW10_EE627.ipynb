{
 "cells": [
  {
   "cell_type": "code",
   "execution_count": 73,
   "metadata": {},
   "outputs": [],
   "source": [
    "# HW10 - Ensemble Method\n",
    "\n",
    "import pandas as pd\n",
    "import numpy as np\n"
   ]
  },
  {
   "cell_type": "code",
   "execution_count": 74,
   "metadata": {},
   "outputs": [
    {
     "data": {
      "text/plain": [
       "TrackID    120000\n",
       "Pred_39    120000\n",
       "Pred_18    120000\n",
       "RF_HW9     120000\n",
       "DT_HW9     120000\n",
       "GBT_HW9    120000\n",
       "dtype: int64"
      ]
     },
     "execution_count": 74,
     "metadata": {},
     "output_type": "execute_result"
    }
   ],
   "source": [
    "# Read Input data\n",
    "df=pd.read_csv(\"HW10_Ensemble.csv\")\n",
    "\n",
    "df.head(5)\n",
    "df.count()\n"
   ]
  },
  {
   "cell_type": "code",
   "execution_count": 75,
   "metadata": {},
   "outputs": [
    {
     "name": "stdout",
     "output_type": "stream",
     "text": [
      "        Pred_39  Pred_18  RF_HW9  DT_HW9  GBT_HW9\n",
      "0             1        1       1       1        1\n",
      "1             1        1       1       1        1\n",
      "2             1       -1      -1      -1       -1\n",
      "3            -1       -1      -1      -1       -1\n",
      "4            -1       -1      -1      -1       -1\n",
      "...         ...      ...     ...     ...      ...\n",
      "119995        1        1       1       1        1\n",
      "119996        1        1       1       1        1\n",
      "119997       -1       -1      -1      -1       -1\n",
      "119998       -1       -1      -1      -1       -1\n",
      "119999       -1       -1      -1      -1       -1\n",
      "\n",
      "[120000 rows x 5 columns]\n"
     ]
    }
   ],
   "source": [
    "del df[df.columns[0]]\n",
    "print(df)"
   ]
  },
  {
   "cell_type": "code",
   "execution_count": 77,
   "metadata": {},
   "outputs": [
    {
     "name": "stdout",
     "output_type": "stream",
     "text": [
      "[[ 1]\n",
      " [ 1]\n",
      " [ 1]\n",
      " ...\n",
      " [-1]\n",
      " [-1]\n",
      " [-1]]\n"
     ]
    }
   ],
   "source": [
    "S= df.values\n",
    "\n",
    "S1=np.array([df[\"Pred_39\"]]).T\n",
    "\n",
    "print(S1)"
   ]
  },
  {
   "cell_type": "code",
   "execution_count": 78,
   "metadata": {},
   "outputs": [
    {
     "name": "stdout",
     "output_type": "stream",
     "text": [
      "[[ 1  1  1 ... -1 -1 -1]\n",
      " [ 1  1 -1 ... -1 -1 -1]\n",
      " [ 1  1 -1 ... -1 -1 -1]\n",
      " [ 1  1 -1 ... -1 -1 -1]\n",
      " [ 1  1 -1 ... -1 -1 -1]]\n"
     ]
    }
   ],
   "source": [
    "# Transpose matrix\n",
    "S_T=S.T\n",
    "\n",
    "print(S_T)\n",
    "\n"
   ]
  },
  {
   "cell_type": "code",
   "execution_count": 86,
   "metadata": {},
   "outputs": [],
   "source": [
    "SS=np.dot(S_T,S)"
   ]
  },
  {
   "cell_type": "code",
   "execution_count": 89,
   "metadata": {},
   "outputs": [],
   "source": [
    "p1=0.885*120000\n",
    "p2=0.854*120000\n",
    "p3=0.730*120000\n",
    "p4=0.752*120000\n",
    "p5=0.802*120000"
   ]
  },
  {
   "cell_type": "code",
   "execution_count": 90,
   "metadata": {},
   "outputs": [
    {
     "name": "stdout",
     "output_type": "stream",
     "text": [
      "[[106200.]\n",
      " [102480.]\n",
      " [ 87600.]\n",
      " [ 90240.]\n",
      " [ 96240.]]\n"
     ]
    }
   ],
   "source": [
    "B = np.array([[p1,p2,p3,p4,p5]]).T\n",
    "print(B)"
   ]
  },
  {
   "cell_type": "code",
   "execution_count": 91,
   "metadata": {},
   "outputs": [
    {
     "name": "stdout",
     "output_type": "stream",
     "text": [
      "[[0.41635004]\n",
      " [0.26441146]\n",
      " [0.22263375]\n",
      " [0.16434786]\n",
      " [0.07905726]]\n"
     ]
    }
   ],
   "source": [
    "AV=np.linalg.inv(SS)\n",
    "\n",
    "ALS=np.dot(AV,B)\n",
    "\n",
    "print(ALS)"
   ]
  },
  {
   "cell_type": "code",
   "execution_count": null,
   "metadata": {},
   "outputs": [],
   "source": []
  },
  {
   "cell_type": "code",
   "execution_count": 92,
   "metadata": {},
   "outputs": [
    {
     "name": "stdout",
     "output_type": "stream",
     "text": [
      "[[ 1.14680037]\n",
      " [ 1.14680037]\n",
      " [-0.31410028]\n",
      " ...\n",
      " [-1.14680037]\n",
      " [-1.14680037]\n",
      " [-1.14680037]]\n"
     ]
    }
   ],
   "source": [
    "ensemble=np.dot(S,ALS)\n",
    "print(ensemble)"
   ]
  },
  {
   "cell_type": "code",
   "execution_count": 93,
   "metadata": {},
   "outputs": [],
   "source": [
    "lst=(list(ensemble))"
   ]
  },
  {
   "cell_type": "code",
   "execution_count": 85,
   "metadata": {},
   "outputs": [],
   "source": [
    "from pandas import DataFrame\n",
    "df = DataFrame({'Ensemble': (lst)})\n",
    "df\n",
    "df.to_excel('ensemble3.xlsx', sheet_name='sheet1', index=False)"
   ]
  },
  {
   "cell_type": "code",
   "execution_count": null,
   "metadata": {},
   "outputs": [],
   "source": []
  }
 ],
 "metadata": {
  "kernelspec": {
   "display_name": "Python 3",
   "language": "python",
   "name": "python3"
  },
  "language_info": {
   "codemirror_mode": {
    "name": "ipython",
    "version": 3
   },
   "file_extension": ".py",
   "mimetype": "text/x-python",
   "name": "python",
   "nbconvert_exporter": "python",
   "pygments_lexer": "ipython3",
   "version": "3.7.1"
  }
 },
 "nbformat": 4,
 "nbformat_minor": 2
}
